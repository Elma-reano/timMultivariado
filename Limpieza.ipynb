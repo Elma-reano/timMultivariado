{
 "cells": [
  {
   "cell_type": "code",
   "execution_count": 37,
   "id": "0f8c22d0",
   "metadata": {},
   "outputs": [],
   "source": [
    "# Importar todo\n",
    "import pandas as pd\n",
    "import numpy as np\n",
    "import matplotlib.pyplot as plt\n",
    "%matplotlib inline\n",
    "import seaborn as sns"
   ]
  },
  {
   "cell_type": "markdown",
   "id": "373ca703",
   "metadata": {},
   "source": [
    "Importar las bases de datos a dataframes"
   ]
  },
  {
   "cell_type": "code",
   "execution_count": 38,
   "id": "108b0f25",
   "metadata": {},
   "outputs": [],
   "source": [
    "apodaca = pd.read_csv('csvsFinales/Apodaca.csv') #index_col=0????\n",
    "escobedo = pd.read_csv('csvsFinales/Escobedo.csv')\n",
    "garcia = pd.read_csv('csvsFinales/Garcia.csv')\n",
    "saintPeter = pd.read_csv('csvsFinales/SanPedro.csv')\n",
    "santaCatarina = pd.read_csv('csvsFinales/SantaCatarina.csv')"
   ]
  },
  {
   "cell_type": "code",
   "execution_count": 39,
   "id": "04e70469",
   "metadata": {},
   "outputs": [
    {
     "data": {
      "text/html": [
       "<div>\n",
       "<style scoped>\n",
       "    .dataframe tbody tr th:only-of-type {\n",
       "        vertical-align: middle;\n",
       "    }\n",
       "\n",
       "    .dataframe tbody tr th {\n",
       "        vertical-align: top;\n",
       "    }\n",
       "\n",
       "    .dataframe thead th {\n",
       "        text-align: right;\n",
       "    }\n",
       "</style>\n",
       "<table border=\"1\" class=\"dataframe\">\n",
       "  <thead>\n",
       "    <tr style=\"text-align: right;\">\n",
       "      <th></th>\n",
       "      <th>Unnamed: 0</th>\n",
       "      <th>NOX</th>\n",
       "      <th>O3</th>\n",
       "      <th>PM10</th>\n",
       "      <th>RH</th>\n",
       "      <th>SR</th>\n",
       "      <th>TOUT</th>\n",
       "      <th>WSR</th>\n",
       "      <th>WDR</th>\n",
       "      <th>NOX_categorias</th>\n",
       "      <th>O3_categorias</th>\n",
       "      <th>PM10_categorias</th>\n",
       "      <th>RH_categorias</th>\n",
       "      <th>SR_categorias</th>\n",
       "      <th>TOUT_categorias</th>\n",
       "      <th>WSR_categorias</th>\n",
       "      <th>WDR_categorias</th>\n",
       "    </tr>\n",
       "  </thead>\n",
       "  <tbody>\n",
       "    <tr>\n",
       "      <th>0</th>\n",
       "      <td>19</td>\n",
       "      <td>20.7</td>\n",
       "      <td>28</td>\n",
       "      <td>46</td>\n",
       "      <td>5</td>\n",
       "      <td>0.039</td>\n",
       "      <td>33.81</td>\n",
       "      <td>2.3</td>\n",
       "      <td>11</td>\n",
       "      <td>Intervalo 3</td>\n",
       "      <td>Intervalo 3</td>\n",
       "      <td>Intervalo 5</td>\n",
       "      <td>Intervalo 1</td>\n",
       "      <td>Intervalo 1</td>\n",
       "      <td>Intervalo 4</td>\n",
       "      <td>Intervalo 1</td>\n",
       "      <td>Intervalo 2</td>\n",
       "    </tr>\n",
       "    <tr>\n",
       "      <th>1</th>\n",
       "      <td>23</td>\n",
       "      <td>60.4</td>\n",
       "      <td>6</td>\n",
       "      <td>74</td>\n",
       "      <td>17</td>\n",
       "      <td>0.000</td>\n",
       "      <td>27.15</td>\n",
       "      <td>1.2</td>\n",
       "      <td>168</td>\n",
       "      <td>NaN</td>\n",
       "      <td>Intervalo 1</td>\n",
       "      <td>NaN</td>\n",
       "      <td>Intervalo 2</td>\n",
       "      <td>Intervalo 1</td>\n",
       "      <td>Intervalo 3</td>\n",
       "      <td>Intervalo 1</td>\n",
       "      <td>NaN</td>\n",
       "    </tr>\n",
       "    <tr>\n",
       "      <th>2</th>\n",
       "      <td>24</td>\n",
       "      <td>90.1</td>\n",
       "      <td>6</td>\n",
       "      <td>89</td>\n",
       "      <td>21</td>\n",
       "      <td>0.000</td>\n",
       "      <td>25.57</td>\n",
       "      <td>2.3</td>\n",
       "      <td>156</td>\n",
       "      <td>NaN</td>\n",
       "      <td>Intervalo 1</td>\n",
       "      <td>NaN</td>\n",
       "      <td>Intervalo 3</td>\n",
       "      <td>Intervalo 1</td>\n",
       "      <td>Intervalo 3</td>\n",
       "      <td>Intervalo 1</td>\n",
       "      <td>NaN</td>\n",
       "    </tr>\n",
       "    <tr>\n",
       "      <th>3</th>\n",
       "      <td>51</td>\n",
       "      <td>21.7</td>\n",
       "      <td>16</td>\n",
       "      <td>40</td>\n",
       "      <td>29</td>\n",
       "      <td>0.000</td>\n",
       "      <td>6.93</td>\n",
       "      <td>3.8</td>\n",
       "      <td>172</td>\n",
       "      <td>Intervalo 3</td>\n",
       "      <td>Intervalo 2</td>\n",
       "      <td>Intervalo 4</td>\n",
       "      <td>Intervalo 3</td>\n",
       "      <td>Intervalo 1</td>\n",
       "      <td>Intervalo 1</td>\n",
       "      <td>Intervalo 1</td>\n",
       "      <td>NaN</td>\n",
       "    </tr>\n",
       "    <tr>\n",
       "      <th>4</th>\n",
       "      <td>52</td>\n",
       "      <td>14.1</td>\n",
       "      <td>21</td>\n",
       "      <td>31</td>\n",
       "      <td>30</td>\n",
       "      <td>0.000</td>\n",
       "      <td>7.17</td>\n",
       "      <td>6.2</td>\n",
       "      <td>157</td>\n",
       "      <td>Intervalo 2</td>\n",
       "      <td>Intervalo 3</td>\n",
       "      <td>Intervalo 4</td>\n",
       "      <td>Intervalo 3</td>\n",
       "      <td>Intervalo 1</td>\n",
       "      <td>Intervalo 1</td>\n",
       "      <td>Intervalo 1</td>\n",
       "      <td>NaN</td>\n",
       "    </tr>\n",
       "  </tbody>\n",
       "</table>\n",
       "</div>"
      ],
      "text/plain": [
       "   Unnamed: 0   NOX  O3  PM10  RH     SR   TOUT  WSR  WDR NOX_categorias  \\\n",
       "0          19  20.7  28    46   5  0.039  33.81  2.3   11    Intervalo 3   \n",
       "1          23  60.4   6    74  17  0.000  27.15  1.2  168            NaN   \n",
       "2          24  90.1   6    89  21  0.000  25.57  2.3  156            NaN   \n",
       "3          51  21.7  16    40  29  0.000   6.93  3.8  172    Intervalo 3   \n",
       "4          52  14.1  21    31  30  0.000   7.17  6.2  157    Intervalo 2   \n",
       "\n",
       "  O3_categorias PM10_categorias RH_categorias SR_categorias TOUT_categorias  \\\n",
       "0   Intervalo 3     Intervalo 5   Intervalo 1   Intervalo 1     Intervalo 4   \n",
       "1   Intervalo 1             NaN   Intervalo 2   Intervalo 1     Intervalo 3   \n",
       "2   Intervalo 1             NaN   Intervalo 3   Intervalo 1     Intervalo 3   \n",
       "3   Intervalo 2     Intervalo 4   Intervalo 3   Intervalo 1     Intervalo 1   \n",
       "4   Intervalo 3     Intervalo 4   Intervalo 3   Intervalo 1     Intervalo 1   \n",
       "\n",
       "  WSR_categorias WDR_categorias  \n",
       "0    Intervalo 1    Intervalo 2  \n",
       "1    Intervalo 1            NaN  \n",
       "2    Intervalo 1            NaN  \n",
       "3    Intervalo 1            NaN  \n",
       "4    Intervalo 1            NaN  "
      ]
     },
     "execution_count": 39,
     "metadata": {},
     "output_type": "execute_result"
    }
   ],
   "source": [
    "apodaca.head()\n",
    "#escobedo.head()\n",
    "#garcia.head()\n",
    "#saintPeter.head()\n",
    "#santaCatarina.head()"
   ]
  },
  {
   "cell_type": "markdown",
   "id": "85fe5a84",
   "metadata": {},
   "source": [
    "Verificar que sean las mismas columnas antes de concatenar las bases de datos"
   ]
  },
  {
   "cell_type": "code",
   "execution_count": 40,
   "id": "514e5814",
   "metadata": {},
   "outputs": [
    {
     "data": {
      "text/plain": [
       "array([ True,  True,  True,  True,  True,  True,  True,  True,  True,\n",
       "        True,  True,  True,  True,  True,  True,  True,  True])"
      ]
     },
     "execution_count": 40,
     "metadata": {},
     "output_type": "execute_result"
    }
   ],
   "source": [
    "apodaca.columns == escobedo.columns"
   ]
  },
  {
   "cell_type": "code",
   "execution_count": 41,
   "id": "726bdb8b",
   "metadata": {},
   "outputs": [
    {
     "data": {
      "text/plain": [
       "array([ True,  True,  True,  True,  True,  True,  True,  True,  True,\n",
       "        True,  True,  True,  True,  True,  True,  True,  True])"
      ]
     },
     "execution_count": 41,
     "metadata": {},
     "output_type": "execute_result"
    }
   ],
   "source": [
    "apodaca.columns == garcia.columns"
   ]
  },
  {
   "cell_type": "code",
   "execution_count": 42,
   "id": "ec68a413",
   "metadata": {},
   "outputs": [
    {
     "data": {
      "text/plain": [
       "array([ True,  True,  True,  True,  True,  True,  True,  True,  True,\n",
       "        True,  True,  True,  True,  True,  True,  True,  True])"
      ]
     },
     "execution_count": 42,
     "metadata": {},
     "output_type": "execute_result"
    }
   ],
   "source": [
    "apodaca.columns == saintPeter.columns"
   ]
  },
  {
   "cell_type": "code",
   "execution_count": 43,
   "id": "20c43b8e",
   "metadata": {},
   "outputs": [
    {
     "data": {
      "text/plain": [
       "array([ True,  True,  True,  True,  True,  True,  True,  True,  True,\n",
       "        True,  True,  True,  True,  True,  True,  True,  True])"
      ]
     },
     "execution_count": 43,
     "metadata": {},
     "output_type": "execute_result"
    }
   ],
   "source": [
    "apodaca.columns == santaCatarina.columns"
   ]
  },
  {
   "cell_type": "markdown",
   "id": "c220493c",
   "metadata": {},
   "source": [
    "Dado que las columnas son todas iguales, se pueden concatenar los datos. Sin embargo, antes de realizar la concatenación se agregarán columnas a cada dataframe especificando el nombre de la planta."
   ]
  },
  {
   "cell_type": "code",
   "execution_count": 44,
   "id": "a0408800",
   "metadata": {},
   "outputs": [],
   "source": [
    "apodaca['Planta'] = 1"
   ]
  },
  {
   "cell_type": "code",
   "execution_count": 45,
   "id": "d6b84fba",
   "metadata": {},
   "outputs": [],
   "source": [
    "escobedo['Planta'] = 2"
   ]
  },
  {
   "cell_type": "code",
   "execution_count": 46,
   "id": "b974888e",
   "metadata": {},
   "outputs": [],
   "source": [
    "garcia['Planta'] = 3"
   ]
  },
  {
   "cell_type": "code",
   "execution_count": 47,
   "id": "a13a932d",
   "metadata": {},
   "outputs": [],
   "source": [
    "saintPeter['Planta'] = 4"
   ]
  },
  {
   "cell_type": "code",
   "execution_count": 48,
   "id": "72751899",
   "metadata": {},
   "outputs": [],
   "source": [
    "santaCatarina['Planta'] = 5"
   ]
  },
  {
   "cell_type": "markdown",
   "id": "c6268ef5",
   "metadata": {},
   "source": [
    "Ahora si, se pueden concatenar las bases de datos"
   ]
  },
  {
   "cell_type": "code",
   "execution_count": 49,
   "id": "22decf13",
   "metadata": {},
   "outputs": [
    {
     "data": {
      "text/html": [
       "<div>\n",
       "<style scoped>\n",
       "    .dataframe tbody tr th:only-of-type {\n",
       "        vertical-align: middle;\n",
       "    }\n",
       "\n",
       "    .dataframe tbody tr th {\n",
       "        vertical-align: top;\n",
       "    }\n",
       "\n",
       "    .dataframe thead th {\n",
       "        text-align: right;\n",
       "    }\n",
       "</style>\n",
       "<table border=\"1\" class=\"dataframe\">\n",
       "  <thead>\n",
       "    <tr style=\"text-align: right;\">\n",
       "      <th></th>\n",
       "      <th>Unnamed: 0</th>\n",
       "      <th>NOX</th>\n",
       "      <th>O3</th>\n",
       "      <th>PM10</th>\n",
       "      <th>RH</th>\n",
       "      <th>SR</th>\n",
       "      <th>TOUT</th>\n",
       "      <th>WSR</th>\n",
       "      <th>WDR</th>\n",
       "      <th>NOX_categorias</th>\n",
       "      <th>O3_categorias</th>\n",
       "      <th>PM10_categorias</th>\n",
       "      <th>RH_categorias</th>\n",
       "      <th>SR_categorias</th>\n",
       "      <th>TOUT_categorias</th>\n",
       "      <th>WSR_categorias</th>\n",
       "      <th>WDR_categorias</th>\n",
       "      <th>Planta</th>\n",
       "    </tr>\n",
       "  </thead>\n",
       "  <tbody>\n",
       "    <tr>\n",
       "      <th>0</th>\n",
       "      <td>19</td>\n",
       "      <td>20.7</td>\n",
       "      <td>28</td>\n",
       "      <td>46.0</td>\n",
       "      <td>5</td>\n",
       "      <td>0.039</td>\n",
       "      <td>33.81</td>\n",
       "      <td>2.3</td>\n",
       "      <td>11</td>\n",
       "      <td>Intervalo 3</td>\n",
       "      <td>Intervalo 3</td>\n",
       "      <td>Intervalo 5</td>\n",
       "      <td>Intervalo 1</td>\n",
       "      <td>Intervalo 1</td>\n",
       "      <td>Intervalo 4</td>\n",
       "      <td>Intervalo 1</td>\n",
       "      <td>Intervalo 2</td>\n",
       "      <td>1</td>\n",
       "    </tr>\n",
       "    <tr>\n",
       "      <th>1</th>\n",
       "      <td>23</td>\n",
       "      <td>60.4</td>\n",
       "      <td>6</td>\n",
       "      <td>74.0</td>\n",
       "      <td>17</td>\n",
       "      <td>0.000</td>\n",
       "      <td>27.15</td>\n",
       "      <td>1.2</td>\n",
       "      <td>168</td>\n",
       "      <td>NaN</td>\n",
       "      <td>Intervalo 1</td>\n",
       "      <td>NaN</td>\n",
       "      <td>Intervalo 2</td>\n",
       "      <td>Intervalo 1</td>\n",
       "      <td>Intervalo 3</td>\n",
       "      <td>Intervalo 1</td>\n",
       "      <td>NaN</td>\n",
       "      <td>1</td>\n",
       "    </tr>\n",
       "    <tr>\n",
       "      <th>2</th>\n",
       "      <td>24</td>\n",
       "      <td>90.1</td>\n",
       "      <td>6</td>\n",
       "      <td>89.0</td>\n",
       "      <td>21</td>\n",
       "      <td>0.000</td>\n",
       "      <td>25.57</td>\n",
       "      <td>2.3</td>\n",
       "      <td>156</td>\n",
       "      <td>NaN</td>\n",
       "      <td>Intervalo 1</td>\n",
       "      <td>NaN</td>\n",
       "      <td>Intervalo 3</td>\n",
       "      <td>Intervalo 1</td>\n",
       "      <td>Intervalo 3</td>\n",
       "      <td>Intervalo 1</td>\n",
       "      <td>NaN</td>\n",
       "      <td>1</td>\n",
       "    </tr>\n",
       "    <tr>\n",
       "      <th>3</th>\n",
       "      <td>51</td>\n",
       "      <td>21.7</td>\n",
       "      <td>16</td>\n",
       "      <td>40.0</td>\n",
       "      <td>29</td>\n",
       "      <td>0.000</td>\n",
       "      <td>6.93</td>\n",
       "      <td>3.8</td>\n",
       "      <td>172</td>\n",
       "      <td>Intervalo 3</td>\n",
       "      <td>Intervalo 2</td>\n",
       "      <td>Intervalo 4</td>\n",
       "      <td>Intervalo 3</td>\n",
       "      <td>Intervalo 1</td>\n",
       "      <td>Intervalo 1</td>\n",
       "      <td>Intervalo 1</td>\n",
       "      <td>NaN</td>\n",
       "      <td>1</td>\n",
       "    </tr>\n",
       "    <tr>\n",
       "      <th>4</th>\n",
       "      <td>52</td>\n",
       "      <td>14.1</td>\n",
       "      <td>21</td>\n",
       "      <td>31.0</td>\n",
       "      <td>30</td>\n",
       "      <td>0.000</td>\n",
       "      <td>7.17</td>\n",
       "      <td>6.2</td>\n",
       "      <td>157</td>\n",
       "      <td>Intervalo 2</td>\n",
       "      <td>Intervalo 3</td>\n",
       "      <td>Intervalo 4</td>\n",
       "      <td>Intervalo 3</td>\n",
       "      <td>Intervalo 1</td>\n",
       "      <td>Intervalo 1</td>\n",
       "      <td>Intervalo 1</td>\n",
       "      <td>NaN</td>\n",
       "      <td>1</td>\n",
       "    </tr>\n",
       "  </tbody>\n",
       "</table>\n",
       "</div>"
      ],
      "text/plain": [
       "   Unnamed: 0   NOX  O3  PM10  RH     SR   TOUT  WSR  WDR NOX_categorias  \\\n",
       "0          19  20.7  28  46.0   5  0.039  33.81  2.3   11    Intervalo 3   \n",
       "1          23  60.4   6  74.0  17  0.000  27.15  1.2  168            NaN   \n",
       "2          24  90.1   6  89.0  21  0.000  25.57  2.3  156            NaN   \n",
       "3          51  21.7  16  40.0  29  0.000   6.93  3.8  172    Intervalo 3   \n",
       "4          52  14.1  21  31.0  30  0.000   7.17  6.2  157    Intervalo 2   \n",
       "\n",
       "  O3_categorias PM10_categorias RH_categorias SR_categorias TOUT_categorias  \\\n",
       "0   Intervalo 3     Intervalo 5   Intervalo 1   Intervalo 1     Intervalo 4   \n",
       "1   Intervalo 1             NaN   Intervalo 2   Intervalo 1     Intervalo 3   \n",
       "2   Intervalo 1             NaN   Intervalo 3   Intervalo 1     Intervalo 3   \n",
       "3   Intervalo 2     Intervalo 4   Intervalo 3   Intervalo 1     Intervalo 1   \n",
       "4   Intervalo 3     Intervalo 4   Intervalo 3   Intervalo 1     Intervalo 1   \n",
       "\n",
       "  WSR_categorias WDR_categorias  Planta  \n",
       "0    Intervalo 1    Intervalo 2       1  \n",
       "1    Intervalo 1            NaN       1  \n",
       "2    Intervalo 1            NaN       1  \n",
       "3    Intervalo 1            NaN       1  \n",
       "4    Intervalo 1            NaN       1  "
      ]
     },
     "execution_count": 49,
     "metadata": {},
     "output_type": "execute_result"
    }
   ],
   "source": [
    "df = pd.concat([apodaca, escobedo, garcia, saintPeter, santaCatarina])\n",
    "df.head()"
   ]
  },
  {
   "cell_type": "code",
   "execution_count": 50,
   "id": "a20d627b",
   "metadata": {},
   "outputs": [
    {
     "data": {
      "text/plain": [
       "Index(['Unnamed: 0', 'NOX', 'O3', 'PM10', 'RH', 'SR', 'TOUT', 'WSR', 'WDR',\n",
       "       'NOX_categorias', 'O3_categorias', 'PM10_categorias', 'RH_categorias',\n",
       "       'SR_categorias', 'TOUT_categorias', 'WSR_categorias', 'WDR_categorias',\n",
       "       'Planta'],\n",
       "      dtype='object')"
      ]
     },
     "execution_count": 50,
     "metadata": {},
     "output_type": "execute_result"
    }
   ],
   "source": [
    "df.columns"
   ]
  },
  {
   "cell_type": "code",
   "execution_count": 51,
   "id": "2888307f",
   "metadata": {
    "scrolled": true
   },
   "outputs": [],
   "source": [
    "df = df.drop(['Unnamed: 0','RH_categorias', 'PM10_categorias', 'SR_categorias', 'WSR_categorias', 'TOUT_categorias', 'WDR_categorias', 'NOX_categorias', 'O3_categorias'], axis=1)"
   ]
  },
  {
   "cell_type": "code",
   "execution_count": 52,
   "id": "c8f9ab69",
   "metadata": {},
   "outputs": [
    {
     "data": {
      "text/html": [
       "<div>\n",
       "<style scoped>\n",
       "    .dataframe tbody tr th:only-of-type {\n",
       "        vertical-align: middle;\n",
       "    }\n",
       "\n",
       "    .dataframe tbody tr th {\n",
       "        vertical-align: top;\n",
       "    }\n",
       "\n",
       "    .dataframe thead th {\n",
       "        text-align: right;\n",
       "    }\n",
       "</style>\n",
       "<table border=\"1\" class=\"dataframe\">\n",
       "  <thead>\n",
       "    <tr style=\"text-align: right;\">\n",
       "      <th></th>\n",
       "      <th>NOX</th>\n",
       "      <th>O3</th>\n",
       "      <th>PM10</th>\n",
       "      <th>RH</th>\n",
       "      <th>SR</th>\n",
       "      <th>TOUT</th>\n",
       "      <th>WSR</th>\n",
       "      <th>WDR</th>\n",
       "      <th>Planta</th>\n",
       "    </tr>\n",
       "  </thead>\n",
       "  <tbody>\n",
       "    <tr>\n",
       "      <th>0</th>\n",
       "      <td>20.7</td>\n",
       "      <td>28</td>\n",
       "      <td>46.0</td>\n",
       "      <td>5</td>\n",
       "      <td>0.039</td>\n",
       "      <td>33.81</td>\n",
       "      <td>2.3</td>\n",
       "      <td>11</td>\n",
       "      <td>1</td>\n",
       "    </tr>\n",
       "    <tr>\n",
       "      <th>1</th>\n",
       "      <td>60.4</td>\n",
       "      <td>6</td>\n",
       "      <td>74.0</td>\n",
       "      <td>17</td>\n",
       "      <td>0.000</td>\n",
       "      <td>27.15</td>\n",
       "      <td>1.2</td>\n",
       "      <td>168</td>\n",
       "      <td>1</td>\n",
       "    </tr>\n",
       "    <tr>\n",
       "      <th>2</th>\n",
       "      <td>90.1</td>\n",
       "      <td>6</td>\n",
       "      <td>89.0</td>\n",
       "      <td>21</td>\n",
       "      <td>0.000</td>\n",
       "      <td>25.57</td>\n",
       "      <td>2.3</td>\n",
       "      <td>156</td>\n",
       "      <td>1</td>\n",
       "    </tr>\n",
       "    <tr>\n",
       "      <th>3</th>\n",
       "      <td>21.7</td>\n",
       "      <td>16</td>\n",
       "      <td>40.0</td>\n",
       "      <td>29</td>\n",
       "      <td>0.000</td>\n",
       "      <td>6.93</td>\n",
       "      <td>3.8</td>\n",
       "      <td>172</td>\n",
       "      <td>1</td>\n",
       "    </tr>\n",
       "    <tr>\n",
       "      <th>4</th>\n",
       "      <td>14.1</td>\n",
       "      <td>21</td>\n",
       "      <td>31.0</td>\n",
       "      <td>30</td>\n",
       "      <td>0.000</td>\n",
       "      <td>7.17</td>\n",
       "      <td>6.2</td>\n",
       "      <td>157</td>\n",
       "      <td>1</td>\n",
       "    </tr>\n",
       "  </tbody>\n",
       "</table>\n",
       "</div>"
      ],
      "text/plain": [
       "    NOX  O3  PM10  RH     SR   TOUT  WSR  WDR  Planta\n",
       "0  20.7  28  46.0   5  0.039  33.81  2.3   11       1\n",
       "1  60.4   6  74.0  17  0.000  27.15  1.2  168       1\n",
       "2  90.1   6  89.0  21  0.000  25.57  2.3  156       1\n",
       "3  21.7  16  40.0  29  0.000   6.93  3.8  172       1\n",
       "4  14.1  21  31.0  30  0.000   7.17  6.2  157       1"
      ]
     },
     "execution_count": 52,
     "metadata": {},
     "output_type": "execute_result"
    }
   ],
   "source": [
    "df.head()"
   ]
  },
  {
   "cell_type": "code",
   "execution_count": 53,
   "id": "dfe8665b",
   "metadata": {},
   "outputs": [],
   "source": [
    "df.to_csv('csvsFinales/willyrex.csv')"
   ]
  },
  {
   "cell_type": "code",
   "execution_count": null,
   "id": "a61e1f3a",
   "metadata": {},
   "outputs": [],
   "source": []
  }
 ],
 "metadata": {
  "kernelspec": {
   "display_name": "Python 3 (ipykernel)",
   "language": "python",
   "name": "python3"
  },
  "language_info": {
   "codemirror_mode": {
    "name": "ipython",
    "version": 3
   },
   "file_extension": ".py",
   "mimetype": "text/x-python",
   "name": "python",
   "nbconvert_exporter": "python",
   "pygments_lexer": "ipython3",
   "version": "3.11.4"
  }
 },
 "nbformat": 4,
 "nbformat_minor": 5
}
