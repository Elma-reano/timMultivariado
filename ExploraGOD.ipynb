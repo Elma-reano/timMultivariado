{
 "cells": [
  {
   "cell_type": "code",
   "execution_count": 14,
   "id": "0e9eee01",
   "metadata": {},
   "outputs": [],
   "source": [
    "import pandas as pd\n",
    "import numpy as np\n",
    "import matplotlib.pyplot as plt\n",
    "%matplotlib inline\n",
    "import seaborn as sns"
   ]
  },
  {
   "cell_type": "code",
   "execution_count": 15,
   "id": "68bd2b14",
   "metadata": {},
   "outputs": [
    {
     "data": {
      "text/html": [
       "<div>\n",
       "<style scoped>\n",
       "    .dataframe tbody tr th:only-of-type {\n",
       "        vertical-align: middle;\n",
       "    }\n",
       "\n",
       "    .dataframe tbody tr th {\n",
       "        vertical-align: top;\n",
       "    }\n",
       "\n",
       "    .dataframe thead th {\n",
       "        text-align: right;\n",
       "    }\n",
       "</style>\n",
       "<table border=\"1\" class=\"dataframe\">\n",
       "  <thead>\n",
       "    <tr style=\"text-align: right;\">\n",
       "      <th></th>\n",
       "      <th>NOX</th>\n",
       "      <th>O3</th>\n",
       "      <th>PM10</th>\n",
       "      <th>RH</th>\n",
       "      <th>SR</th>\n",
       "      <th>TOUT</th>\n",
       "      <th>WSR</th>\n",
       "      <th>WDR</th>\n",
       "      <th>Planta</th>\n",
       "    </tr>\n",
       "  </thead>\n",
       "  <tbody>\n",
       "    <tr>\n",
       "      <th>0</th>\n",
       "      <td>20.7</td>\n",
       "      <td>28</td>\n",
       "      <td>46.0</td>\n",
       "      <td>5</td>\n",
       "      <td>0.039</td>\n",
       "      <td>33.81</td>\n",
       "      <td>2.3</td>\n",
       "      <td>11</td>\n",
       "      <td>1</td>\n",
       "    </tr>\n",
       "    <tr>\n",
       "      <th>1</th>\n",
       "      <td>60.4</td>\n",
       "      <td>6</td>\n",
       "      <td>74.0</td>\n",
       "      <td>17</td>\n",
       "      <td>0.000</td>\n",
       "      <td>27.15</td>\n",
       "      <td>1.2</td>\n",
       "      <td>168</td>\n",
       "      <td>1</td>\n",
       "    </tr>\n",
       "    <tr>\n",
       "      <th>2</th>\n",
       "      <td>90.1</td>\n",
       "      <td>6</td>\n",
       "      <td>89.0</td>\n",
       "      <td>21</td>\n",
       "      <td>0.000</td>\n",
       "      <td>25.57</td>\n",
       "      <td>2.3</td>\n",
       "      <td>156</td>\n",
       "      <td>1</td>\n",
       "    </tr>\n",
       "    <tr>\n",
       "      <th>3</th>\n",
       "      <td>21.7</td>\n",
       "      <td>16</td>\n",
       "      <td>40.0</td>\n",
       "      <td>29</td>\n",
       "      <td>0.000</td>\n",
       "      <td>6.93</td>\n",
       "      <td>3.8</td>\n",
       "      <td>172</td>\n",
       "      <td>1</td>\n",
       "    </tr>\n",
       "    <tr>\n",
       "      <th>4</th>\n",
       "      <td>14.1</td>\n",
       "      <td>21</td>\n",
       "      <td>31.0</td>\n",
       "      <td>30</td>\n",
       "      <td>0.000</td>\n",
       "      <td>7.17</td>\n",
       "      <td>6.2</td>\n",
       "      <td>157</td>\n",
       "      <td>1</td>\n",
       "    </tr>\n",
       "  </tbody>\n",
       "</table>\n",
       "</div>"
      ],
      "text/plain": [
       "    NOX  O3  PM10  RH     SR   TOUT  WSR  WDR  Planta\n",
       "0  20.7  28  46.0   5  0.039  33.81  2.3   11       1\n",
       "1  60.4   6  74.0  17  0.000  27.15  1.2  168       1\n",
       "2  90.1   6  89.0  21  0.000  25.57  2.3  156       1\n",
       "3  21.7  16  40.0  29  0.000   6.93  3.8  172       1\n",
       "4  14.1  21  31.0  30  0.000   7.17  6.2  157       1"
      ]
     },
     "execution_count": 15,
     "metadata": {},
     "output_type": "execute_result"
    }
   ],
   "source": [
    "df = pd.read_csv('csvsFinales/willyrex.csv', index_col=0)\n",
    "df.head()"
   ]
  },
  {
   "cell_type": "code",
   "execution_count": 16,
   "id": "a257a41e",
   "metadata": {},
   "outputs": [
    {
     "data": {
      "text/html": [
       "<div>\n",
       "<style scoped>\n",
       "    .dataframe tbody tr th:only-of-type {\n",
       "        vertical-align: middle;\n",
       "    }\n",
       "\n",
       "    .dataframe tbody tr th {\n",
       "        vertical-align: top;\n",
       "    }\n",
       "\n",
       "    .dataframe thead th {\n",
       "        text-align: right;\n",
       "    }\n",
       "</style>\n",
       "<table border=\"1\" class=\"dataframe\">\n",
       "  <thead>\n",
       "    <tr style=\"text-align: right;\">\n",
       "      <th></th>\n",
       "      <th>count</th>\n",
       "      <th>mean</th>\n",
       "      <th>std</th>\n",
       "      <th>min</th>\n",
       "      <th>25%</th>\n",
       "      <th>50%</th>\n",
       "      <th>75%</th>\n",
       "      <th>max</th>\n",
       "    </tr>\n",
       "  </thead>\n",
       "  <tbody>\n",
       "    <tr>\n",
       "      <th>NOX</th>\n",
       "      <td>39904.0</td>\n",
       "      <td>22.607937</td>\n",
       "      <td>16.536648</td>\n",
       "      <td>1.100</td>\n",
       "      <td>11.40</td>\n",
       "      <td>17.700</td>\n",
       "      <td>28.400</td>\n",
       "      <td>173.000</td>\n",
       "    </tr>\n",
       "    <tr>\n",
       "      <th>O3</th>\n",
       "      <td>39904.0</td>\n",
       "      <td>27.944993</td>\n",
       "      <td>19.090769</td>\n",
       "      <td>1.000</td>\n",
       "      <td>14.00</td>\n",
       "      <td>24.000</td>\n",
       "      <td>38.000</td>\n",
       "      <td>141.000</td>\n",
       "    </tr>\n",
       "    <tr>\n",
       "      <th>PM10</th>\n",
       "      <td>39904.0</td>\n",
       "      <td>59.315610</td>\n",
       "      <td>28.089622</td>\n",
       "      <td>3.000</td>\n",
       "      <td>39.00</td>\n",
       "      <td>54.000</td>\n",
       "      <td>75.000</td>\n",
       "      <td>178.000</td>\n",
       "    </tr>\n",
       "    <tr>\n",
       "      <th>RH</th>\n",
       "      <td>39904.0</td>\n",
       "      <td>52.575406</td>\n",
       "      <td>20.250613</td>\n",
       "      <td>0.000</td>\n",
       "      <td>37.00</td>\n",
       "      <td>53.000</td>\n",
       "      <td>69.000</td>\n",
       "      <td>96.000</td>\n",
       "    </tr>\n",
       "    <tr>\n",
       "      <th>SR</th>\n",
       "      <td>39904.0</td>\n",
       "      <td>0.183568</td>\n",
       "      <td>0.280920</td>\n",
       "      <td>-0.006</td>\n",
       "      <td>0.00</td>\n",
       "      <td>0.013</td>\n",
       "      <td>0.302</td>\n",
       "      <td>7.655</td>\n",
       "    </tr>\n",
       "    <tr>\n",
       "      <th>TOUT</th>\n",
       "      <td>39904.0</td>\n",
       "      <td>24.043088</td>\n",
       "      <td>7.340087</td>\n",
       "      <td>-3.220</td>\n",
       "      <td>19.92</td>\n",
       "      <td>24.830</td>\n",
       "      <td>29.050</td>\n",
       "      <td>42.630</td>\n",
       "    </tr>\n",
       "    <tr>\n",
       "      <th>WSR</th>\n",
       "      <td>39904.0</td>\n",
       "      <td>10.617487</td>\n",
       "      <td>4.886897</td>\n",
       "      <td>0.100</td>\n",
       "      <td>6.90</td>\n",
       "      <td>10.300</td>\n",
       "      <td>14.000</td>\n",
       "      <td>112.700</td>\n",
       "    </tr>\n",
       "    <tr>\n",
       "      <th>WDR</th>\n",
       "      <td>39904.0</td>\n",
       "      <td>90.346908</td>\n",
       "      <td>42.571142</td>\n",
       "      <td>1.000</td>\n",
       "      <td>67.00</td>\n",
       "      <td>99.000</td>\n",
       "      <td>121.000</td>\n",
       "      <td>178.000</td>\n",
       "    </tr>\n",
       "    <tr>\n",
       "      <th>Planta</th>\n",
       "      <td>39904.0</td>\n",
       "      <td>3.215267</td>\n",
       "      <td>1.435992</td>\n",
       "      <td>1.000</td>\n",
       "      <td>2.00</td>\n",
       "      <td>3.000</td>\n",
       "      <td>5.000</td>\n",
       "      <td>5.000</td>\n",
       "    </tr>\n",
       "  </tbody>\n",
       "</table>\n",
       "</div>"
      ],
      "text/plain": [
       "          count       mean        std    min    25%     50%      75%      max\n",
       "NOX     39904.0  22.607937  16.536648  1.100  11.40  17.700   28.400  173.000\n",
       "O3      39904.0  27.944993  19.090769  1.000  14.00  24.000   38.000  141.000\n",
       "PM10    39904.0  59.315610  28.089622  3.000  39.00  54.000   75.000  178.000\n",
       "RH      39904.0  52.575406  20.250613  0.000  37.00  53.000   69.000   96.000\n",
       "SR      39904.0   0.183568   0.280920 -0.006   0.00   0.013    0.302    7.655\n",
       "TOUT    39904.0  24.043088   7.340087 -3.220  19.92  24.830   29.050   42.630\n",
       "WSR     39904.0  10.617487   4.886897  0.100   6.90  10.300   14.000  112.700\n",
       "WDR     39904.0  90.346908  42.571142  1.000  67.00  99.000  121.000  178.000\n",
       "Planta  39904.0   3.215267   1.435992  1.000   2.00   3.000    5.000    5.000"
      ]
     },
     "execution_count": 16,
     "metadata": {},
     "output_type": "execute_result"
    }
   ],
   "source": [
    "df.describe().transpose()"
   ]
  },
  {
   "cell_type": "code",
   "execution_count": 17,
   "id": "7841132c",
   "metadata": {},
   "outputs": [
    {
     "data": {
      "text/plain": [
       "<Axes: >"
      ]
     },
     "execution_count": 17,
     "metadata": {},
     "output_type": "execute_result"
    },
    {
     "data": {
      "image/png": "[encoded data removed]",
      "text/plain": [
       "<Figure size 700x700 with 2 Axes>"
      ]
     },
     "metadata": {},
     "output_type": "display_data"
    }
   ],
   "source": [
    "plt.figure(figsize=(7,7))\n",
    "sns.heatmap(df.corr(numeric_only=True), cmap='YlGnBu',linecolor=\"white\")"
   ]
  },
  {
   "cell_type": "markdown",
   "id": "40ed2bb4",
   "metadata": {},
   "source": [
    "# Analisis de Componentes Principales"
   ]
  },
  {
   "cell_type": "code",
   "execution_count": 18,
   "id": "5ece0a61",
   "metadata": {},
   "outputs": [],
   "source": [
    "from sklearn.decomposition import PCA\n",
    "from sklearn import preprocessing\n",
    "from sklearn.preprocessing import StandardScaler"
   ]
  },
  {
   "cell_type": "code",
   "execution_count": 20,
   "id": "828a2b03",
   "metadata": {},
   "outputs": [],
   "source": [
    "X = df.values"
   ]
  },
  {
   "cell_type": "code",
   "execution_count": 21,
   "id": "a4e66b16",
   "metadata": {},
   "outputs": [
    {
     "name": "stdout",
     "output_type": "stream",
     "text": [
      "NumPy covariance matrix: \n",
      "[[ 1.00002506 -0.27913381  0.44642864  0.05426652  0.05235537 -0.2948666\n",
      "  -0.33275878  0.1701129  -0.08245774]\n",
      " [-0.27913381  1.00002506  0.20362935 -0.57183542  0.37005222  0.48555607\n",
      "   0.39285298 -0.04023235  0.10729643]\n",
      " [ 0.44642864  0.20362935  1.00002506 -0.29423018  0.25906857  0.176919\n",
      "   0.10836709  0.12254706 -0.0953948 ]\n",
      " [ 0.05426652 -0.57183542 -0.29423018  1.00002506 -0.23581616 -0.41487064\n",
      "  -0.37466739  0.01121674 -0.03687522]\n",
      " [ 0.05235537  0.37005222  0.25906857 -0.23581616  1.00002506  0.21250524\n",
      "   0.15020325  0.03157304  0.10328106]\n",
      " [-0.2948666   0.48555607  0.176919   -0.41487064  0.21250524  1.00002506\n",
      "   0.33276269 -0.05425831 -0.0203178 ]\n",
      " [-0.33275878  0.39285298  0.10836709 -0.37466739  0.15020325  0.33276269\n",
      "   1.00002506  0.05807336  0.09271531]\n",
      " [ 0.1701129  -0.04023235  0.12254706  0.01121674  0.03157304 -0.05425831\n",
      "   0.05807336  1.00002506  0.24258542]\n",
      " [-0.08245774  0.10729643 -0.0953948  -0.03687522  0.10328106 -0.0203178\n",
      "   0.09271531  0.24258542  1.00002506]]\n"
     ]
    }
   ],
   "source": [
    "#Aplicamos una transformación de los datos para poder aplicar las propiedades de la distribución normal\n",
    "\n",
    "from sklearn.preprocessing import StandardScaler\n",
    "X_std = StandardScaler().fit_transform(X)\n",
    "\n",
    "# Calculamos la matriz de covarianza\n",
    "print('NumPy covariance matrix: \\n%s' %np.cov(X_std.T))"
   ]
  },
  {
   "cell_type": "code",
   "execution_count": 22,
   "id": "73da727b",
   "metadata": {},
   "outputs": [
    {
     "name": "stdout",
     "output_type": "stream",
     "text": [
      "Eigenvectors \n",
      "[[-0.19710418  0.65639119  0.06530575  0.62863802 -0.2930346  -0.00215958\n",
      "   0.20519444  0.05226864  0.01179983]\n",
      " [ 0.51043155 -0.03445685  0.00810664  0.45807478  0.62181895  0.13899265\n",
      "   0.12875724 -0.10607224 -0.30751685]\n",
      " [ 0.20588842  0.60893922  0.15983217 -0.42554315  0.41884987 -0.16122814\n",
      "   0.05340106  0.08694041  0.41027996]\n",
      " [-0.46132825 -0.12137138 -0.08378815  0.33460389  0.42542031  0.15018437\n",
      "  -0.46915622 -0.01024567  0.47928561]\n",
      " [ 0.30125392  0.25857987 -0.06477213 -0.11486181 -0.22139694  0.7034984\n",
      "  -0.50397078  0.13777842 -0.08998788]\n",
      " [ 0.43795532 -0.10059674  0.14359734  0.16964244 -0.31136349 -0.1210529\n",
      "  -0.13546793 -0.63000694  0.47097278]\n",
      " [ 0.3962924  -0.16038744 -0.13520008  0.23822456 -0.15172907 -0.38490506\n",
      "  -0.20313691  0.69311838  0.22214159]\n",
      " [-0.00409824  0.27847268 -0.62634885 -0.04848087  0.03895685 -0.42776373\n",
      "  -0.40483725 -0.28639813 -0.31201981]\n",
      " [ 0.07597716 -0.04659315 -0.72642625 -0.02935769 -0.02347505  0.30237229\n",
      "   0.4907766   0.00494455  0.36143241]]\n",
      "\n",
      "Eigenvalues \n",
      "[2.66308909 1.64394646 1.26262314 0.29880384 0.40018711 0.8697072\n",
      " 0.67963821 0.63800154 0.54422895]\n"
     ]
    }
   ],
   "source": [
    "#Calculamos los autovalores y autovectores de la matriz y los mostramos\n",
    "\n",
    "cov_mat = np.cov(X_std.T)\n",
    "\n",
    "eig_vals, eig_vecs = np.linalg.eig(cov_mat)\n",
    "\n",
    "print('Eigenvectors \\n%s' %eig_vecs)\n",
    "print('\\nEigenvalues \\n%s' %eig_vals)"
   ]
  },
  {
   "cell_type": "code",
   "execution_count": 26,
   "id": "623befce",
   "metadata": {},
   "outputs": [
    {
     "name": "stdout",
     "output_type": "stream",
     "text": [
      "NOX:\t 2.6630890888962813\n",
      "O3:\t 1.643946460518756\n",
      "PM10:\t 1.2626231375388128\n",
      "RH:\t 0.29880384485306694\n",
      "SR:\t 0.40018711103185534\n",
      "TOUT:\t 0.8697072026500012\n",
      "WSR:\t 0.6796382146572719\n",
      "WDR:\t 0.638001540616975\n",
      "Planta:\t 0.5442289461883439\n"
     ]
    }
   ],
   "source": [
    "for i in range(len(eig_vals)):\n",
    "    print(f'{df.columns[i]}:' + '\\t' + f' {eig_vals[i]}')"
   ]
  },
  {
   "cell_type": "code",
   "execution_count": 30,
   "id": "bf3bddf2",
   "metadata": {},
   "outputs": [],
   "source": [
    "# A partir de los autovalores, calculamos la varianza explicada\n",
    "tot = sum(eig_vals)\n",
    "var_exp = [(i / tot)*100 for i in sorted(eig_vals, reverse=True)]\n",
    "cum_var_exp = np.cumsum(var_exp)"
   ]
  },
  {
   "cell_type": "code",
   "execution_count": 31,
   "id": "70b862ef",
   "metadata": {},
   "outputs": [
    {
     "data": {
      "image/png": "[encoded data removed]",
      "text/plain": [
       "<Figure size 500x500 with 1 Axes>"
      ]
     },
     "metadata": {},
     "output_type": "display_data"
    }
   ],
   "source": [
    "# Representamos en un diagrama de barras la varianza explicada por cada autovalor, y la acumulada\n",
    "with plt.style.context('seaborn-pastel'):\n",
    "    plt.figure(figsize=(5,5))\n",
    "\n",
    "    plt.bar(range(len(eig_vals)), var_exp, alpha=0.5, align='center',\n",
    "            label='Varianza individual explicada', color='g')\n",
    "    plt.step(range(len(eig_vals)), cum_var_exp, where='mid', linestyle='--', label='Varianza explicada acumulada')\n",
    "    plt.ylabel('Ratio de Varianza Explicada')\n",
    "    plt.xlabel('Componentes Principales')\n",
    "    plt.legend(loc='best')\n",
    "    plt.tight_layout()"
   ]
  },
  {
   "cell_type": "code",
   "execution_count": null,
   "id": "3ed6dc1c",
   "metadata": {},
   "outputs": [],
   "source": []
  }
 ],
 "metadata": {
  "kernelspec": {
   "display_name": "Python 3 (ipykernel)",
   "language": "python",
   "name": "python3"
  },
  "language_info": {
   "codemirror_mode": {
    "name": "ipython",
    "version": 3
   },
   "file_extension": ".py",
   "mimetype": "text/x-python",
   "name": "python",
   "nbconvert_exporter": "python",
   "pygments_lexer": "ipython3",
   "version": "3.11.4"
  }
 },
 "nbformat": 4,
 "nbformat_minor": 5
}
